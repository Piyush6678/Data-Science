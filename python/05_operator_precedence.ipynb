{
 "cells": [
  {
   "cell_type": "markdown",
   "id": "0f684688-ab7c-4e4a-8b59-a465bb4bd31e",
   "metadata": {},
   "source": [
    "# Operator Precedence\n",
    "\n"
   ]
  },
  {
   "cell_type": "code",
   "execution_count": 1,
   "id": "951a745d-08d8-4dbc-bcc5-b942611f9cab",
   "metadata": {},
   "outputs": [],
   "source": [
    "result = 10+ 2 * 3"
   ]
  },
  {
   "cell_type": "code",
   "execution_count": 2,
   "id": "92c6c7f6-050d-4f3a-bd83-16004c6b58f5",
   "metadata": {},
   "outputs": [
    {
     "data": {
      "text/plain": [
       "16"
      ]
     },
     "execution_count": 2,
     "metadata": {},
     "output_type": "execute_result"
    }
   ],
   "source": [
    "result"
   ]
  },
  {
   "cell_type": "code",
   "execution_count": 3,
   "id": "d13744ba-9ee5-46e2-858f-1d481b3a4a92",
   "metadata": {},
   "outputs": [],
   "source": [
    "result= (10+2)*3 "
   ]
  },
  {
   "cell_type": "code",
   "execution_count": 4,
   "id": "ccb7fe2e-504e-4007-808b-33128b48271b",
   "metadata": {},
   "outputs": [
    {
     "data": {
      "text/plain": [
       "36"
      ]
     },
     "execution_count": 4,
     "metadata": {},
     "output_type": "execute_result"
    }
   ],
   "source": [
    "result"
   ]
  },
  {
   "cell_type": "code",
   "execution_count": 6,
   "id": "046fdaf1-cebf-4a6c-a912-02ddb7230493",
   "metadata": {},
   "outputs": [
    {
     "data": {
      "text/plain": [
       "43.04347826086956"
      ]
     },
     "execution_count": 6,
     "metadata": {},
     "output_type": "execute_result"
    }
   ],
   "source": [
    "54*3/23+4+32\n"
   ]
  },
  {
   "cell_type": "code",
   "execution_count": null,
   "id": "31cbe5fb-8dcc-4774-ac9c-11600e7c0a85",
   "metadata": {},
   "outputs": [],
   "source": []
  }
 ],
 "metadata": {
  "kernelspec": {
   "display_name": "Python 3 (ipykernel)",
   "language": "python",
   "name": "python3"
  },
  "language_info": {
   "codemirror_mode": {
    "name": "ipython",
    "version": 3
   },
   "file_extension": ".py",
   "mimetype": "text/x-python",
   "name": "python",
   "nbconvert_exporter": "python",
   "pygments_lexer": "ipython3",
   "version": "3.13.2"
  }
 },
 "nbformat": 4,
 "nbformat_minor": 5
}
