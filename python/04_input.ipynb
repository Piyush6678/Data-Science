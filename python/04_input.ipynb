{
 "cells": [
  {
   "cell_type": "markdown",
   "id": "9038df06-5fc8-4823-b01b-131d5835ceb9",
   "metadata": {},
   "source": [
    "# Taking Inputs From User"
   ]
  },
  {
   "cell_type": "code",
   "execution_count": 1,
   "id": "71a82a47-0226-40eb-9790-5d26af20747a",
   "metadata": {},
   "outputs": [
    {
     "name": "stdin",
     "output_type": "stream",
     "text": [
      "enter the value of a  5\n"
     ]
    }
   ],
   "source": [
    "a=input(\"enter the value of a \")"
   ]
  },
  {
   "cell_type": "code",
   "execution_count": 2,
   "id": "cae35c1f-10d3-42f6-a4fb-6e3e61782e01",
   "metadata": {},
   "outputs": [
    {
     "data": {
      "text/plain": [
       "'5'"
      ]
     },
     "execution_count": 2,
     "metadata": {},
     "output_type": "execute_result"
    }
   ],
   "source": [
    "a"
   ]
  },
  {
   "cell_type": "code",
   "execution_count": 3,
   "id": "83476039-3cec-4350-bda8-afdfe7ee749c",
   "metadata": {},
   "outputs": [
    {
     "name": "stdin",
     "output_type": "stream",
     "text": [
      "enter the value of b  5\n"
     ]
    }
   ],
   "source": [
    "b=input(\"enter the value of b \")"
   ]
  },
  {
   "cell_type": "code",
   "execution_count": 7,
   "id": "124c1800-93a4-46e1-98ac-03ae8a555797",
   "metadata": {},
   "outputs": [
    {
     "data": {
      "text/plain": [
       "'55'"
      ]
     },
     "execution_count": 7,
     "metadata": {},
     "output_type": "execute_result"
    }
   ],
   "source": [
    "a+b #55"
   ]
  },
  {
   "cell_type": "code",
   "execution_count": 8,
   "id": "fd7f64f2-2d7c-4ede-8a41-458ffa7df129",
   "metadata": {},
   "outputs": [
    {
     "data": {
      "text/plain": [
       "10"
      ]
     },
     "execution_count": 8,
     "metadata": {},
     "output_type": "execute_result"
    }
   ],
   "source": [
    "int(a) + int(b)\n"
   ]
  },
  {
   "cell_type": "code",
   "execution_count": null,
   "id": "9d14e7b5-f44c-45b6-b9eb-4c4eed192d3d",
   "metadata": {},
   "outputs": [],
   "source": []
  }
 ],
 "metadata": {
  "kernelspec": {
   "display_name": "Python 3 (ipykernel)",
   "language": "python",
   "name": "python3"
  },
  "language_info": {
   "codemirror_mode": {
    "name": "ipython",
    "version": 3
   },
   "file_extension": ".py",
   "mimetype": "text/x-python",
   "name": "python",
   "nbconvert_exporter": "python",
   "pygments_lexer": "ipython3",
   "version": "3.13.2"
  }
 },
 "nbformat": 4,
 "nbformat_minor": 5
}
