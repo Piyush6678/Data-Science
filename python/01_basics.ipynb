{
 "cells": [
  {
   "cell_type": "code",
   "execution_count": 2,
   "id": "ac3e7603-d435-4055-b710-1ce38fe0d5a5",
   "metadata": {},
   "outputs": [],
   "source": [
    "a=5"
   ]
  },
  {
   "cell_type": "code",
   "execution_count": 3,
   "id": "b5fa63e0-582e-4699-99ef-67d89e82f8f5",
   "metadata": {},
   "outputs": [],
   "source": [
    "b=32"
   ]
  },
  {
   "cell_type": "code",
   "execution_count": 5,
   "id": "f324b231-e3b8-4737-99a7-d96daef5f639",
   "metadata": {},
   "outputs": [
    {
     "data": {
      "text/plain": [
       "37"
      ]
     },
     "execution_count": 5,
     "metadata": {},
     "output_type": "execute_result"
    }
   ],
   "source": [
    "a+b"
   ]
  },
  {
   "cell_type": "code",
   "execution_count": 6,
   "id": "fc033a05-b9b7-4b85-b977-3248176af600",
   "metadata": {},
   "outputs": [
    {
     "data": {
      "text/plain": [
       "-27"
      ]
     },
     "execution_count": 6,
     "metadata": {},
     "output_type": "execute_result"
    }
   ],
   "source": [
    "a-b"
   ]
  },
  {
   "cell_type": "code",
   "execution_count": 8,
   "id": "67d32828-07a6-48b0-8505-1b87fac7dedf",
   "metadata": {},
   "outputs": [],
   "source": [
    "name=\"Piyush\""
   ]
  },
  {
   "cell_type": "code",
   "execution_count": 13,
   "id": "59cc7629-a702-44ab-8014-cd86d58c3b03",
   "metadata": {},
   "outputs": [
    {
     "name": "stdout",
     "output_type": "stream",
     "text": [
      "hello world\n"
     ]
    }
   ],
   "source": [
    "print(\"hello world\") #this will print hello world on the screen "
   ]
  },
  {
   "cell_type": "code",
   "execution_count": 15,
   "id": "c8a6b71c-c3f7-4ce7-a604-1e42c2c425b9",
   "metadata": {},
   "outputs": [
    {
     "name": "stdout",
     "output_type": "stream",
     "text": [
      "<class 'str'>\n"
     ]
    }
   ],
   "source": [
    "print(type(name))"
   ]
  },
  {
   "cell_type": "code",
   "execution_count": 17,
   "id": "89304c66-09ab-4788-8bf4-d5cc27e273b8",
   "metadata": {},
   "outputs": [
    {
     "data": {
      "text/plain": [
       "int"
      ]
     },
     "execution_count": 17,
     "metadata": {},
     "output_type": "execute_result"
    }
   ],
   "source": [
    "type(a)\n"
   ]
  },
  {
   "cell_type": "code",
   "execution_count": 18,
   "id": "4f114514-7213-41f5-94f2-3d38d64b1dc1",
   "metadata": {},
   "outputs": [],
   "source": [
    "a=\"456\""
   ]
  },
  {
   "cell_type": "code",
   "execution_count": 19,
   "id": "158fb9ec-ab0f-44c6-89ed-39b69fb13d6a",
   "metadata": {},
   "outputs": [
    {
     "name": "stdout",
     "output_type": "stream",
     "text": [
      "456123\n"
     ]
    }
   ],
   "source": [
    "b=\"123\"\n",
    "print(a+b)"
   ]
  },
  {
   "cell_type": "code",
   "execution_count": 20,
   "id": "7fd58638-5b59-4476-816a-f20530e5fdc2",
   "metadata": {},
   "outputs": [
    {
     "data": {
      "text/plain": [
       "579"
      ]
     },
     "execution_count": 20,
     "metadata": {},
     "output_type": "execute_result"
    }
   ],
   "source": [
    "int(a)+int(b)\n"
   ]
  }
 ],
 "metadata": {
  "kernelspec": {
   "display_name": "Python 3 (ipykernel)",
   "language": "python",
   "name": "python3"
  },
  "language_info": {
   "codemirror_mode": {
    "name": "ipython",
    "version": 3
   },
   "file_extension": ".py",
   "mimetype": "text/x-python",
   "name": "python",
   "nbconvert_exporter": "python",
   "pygments_lexer": "ipython3",
   "version": "3.13.2"
  }
 },
 "nbformat": 4,
 "nbformat_minor": 5
}
