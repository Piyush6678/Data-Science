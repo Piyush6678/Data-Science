{
 "cells": [
  {
   "cell_type": "markdown",
   "id": "0941336f-627e-4732-8887-b3637f0eb5ba",
   "metadata": {},
   "source": [
    "# If Else\n",
    "\n"
   ]
  },
  {
   "cell_type": "code",
   "execution_count": 4,
   "id": "a6126c9c-6289-4c6a-ad03-8d57637117ec",
   "metadata": {},
   "outputs": [
    {
     "name": "stdout",
     "output_type": "stream",
     "text": [
      "X is greater than 5 \n"
     ]
    }
   ],
   "source": [
    "x=6 \n",
    "if x>5:\n",
    "    print(\"X is greater than 5 \")\n",
    "else:\n",
    "    print(\"smaller\")"
   ]
  },
  {
   "cell_type": "code",
   "execution_count": 11,
   "id": "d9e55013-8d98-4b24-bda7-7bd74ef85e8b",
   "metadata": {},
   "outputs": [
    {
     "name": "stdout",
     "output_type": "stream",
     "text": [
      "greater than 40\n"
     ]
    }
   ],
   "source": [
    "a=41 \n",
    "if (a>50):\n",
    "    print(\"greater than 50\")\n",
    "elif a>40:\n",
    "    print(\"greater than 40\")\n",
    "elif a>30 :\n",
    "    print(\"greater than 30\")\n",
    "else :\n",
    "    print(\"less than 30\")\n"
   ]
  }
 ],
 "metadata": {
  "kernelspec": {
   "display_name": "Python 3 (ipykernel)",
   "language": "python",
   "name": "python3"
  },
  "language_info": {
   "codemirror_mode": {
    "name": "ipython",
    "version": 3
   },
   "file_extension": ".py",
   "mimetype": "text/x-python",
   "name": "python",
   "nbconvert_exporter": "python",
   "pygments_lexer": "ipython3",
   "version": "3.13.2"
  }
 },
 "nbformat": 4,
 "nbformat_minor": 5
}
