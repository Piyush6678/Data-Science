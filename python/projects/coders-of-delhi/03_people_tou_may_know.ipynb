{
 "cells": [
  {
   "cell_type": "code",
   "execution_count": 3,
   "id": "12e37377-d893-408d-a753-59bd56a48de6",
   "metadata": {},
   "outputs": [],
   "source": [
    "import json\n"
   ]
  },
  {
   "cell_type": "code",
   "execution_count": 14,
   "id": "096754e6-bbaf-4a50-a215-dc0e2363165d",
   "metadata": {},
   "outputs": [
    {
     "name": "stdout",
     "output_type": "stream",
     "text": [
      "[4, 8, 10, 11, 12, 9, 13]\n"
     ]
    }
   ],
   "source": [
    "def load_data(filename):\n",
    "    with open (filename,\"r\") as f:\n",
    "        \n",
    "        return json.load(f)\n",
    "    \n",
    "def findPeopleYouMayKnow(userId,data):\n",
    "    user_friends={}\n",
    "    for user in data['users']:\n",
    "        user_friends[user['id']]=set(user['friends'])\n",
    "\n",
    "    if userId not in user_friends:\n",
    "        return[]\n",
    "\n",
    "    directFriends=user_friends[userId]\n",
    "    suggestion={}\n",
    "    for friend in directFriends:\n",
    "        for mutual in user_friends[friend]:\n",
    "            if mutual!=userId and mutual not in directFriends:\n",
    "                \n",
    "                #count mutual frinds\n",
    "                suggestion[mutual]=suggestion.get(mutual,0)+1\n",
    "\n",
    "    sortedSuggestion =sorted(suggestion.items(),key=lambda x:x[1],reverse=True)\n",
    "    return [userId for userId, mutual_count in sortedSuggestion]\n",
    "#load the data \n",
    "data=load_data(\"data3.json\")\n",
    "userId=2\n",
    "recc=findPeopleYouMayKnow(userId,data)\n",
    "print(recc)"
   ]
  }
 ],
 "metadata": {
  "kernelspec": {
   "display_name": "Python 3 (ipykernel)",
   "language": "python",
   "name": "python3"
  },
  "language_info": {
   "codemirror_mode": {
    "name": "ipython",
    "version": 3
   },
   "file_extension": ".py",
   "mimetype": "text/x-python",
   "name": "python",
   "nbconvert_exporter": "python",
   "pygments_lexer": "ipython3",
   "version": "3.13.2"
  }
 },
 "nbformat": 4,
 "nbformat_minor": 5
}
