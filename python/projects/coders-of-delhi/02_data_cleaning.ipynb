{
 "cells": [
  {
   "cell_type": "code",
   "execution_count": 3,
   "id": "e163bdad-3279-408c-999f-955af78c0866",
   "metadata": {},
   "outputs": [],
   "source": [
    "import json"
   ]
  },
  {
   "cell_type": "code",
   "execution_count": 9,
   "id": "4baad16c-973b-4a61-947f-2dfe53d389c4",
   "metadata": {},
   "outputs": [
    {
     "name": "stdout",
     "output_type": "stream",
     "text": [
      "Data has been clean successfully\n"
     ]
    }
   ],
   "source": [
    "\n",
    "def clean_data(data):\n",
    "    #remove user with missing name \n",
    "    data[\"users\"]=[user for user in data[\"users\"] if user[\"name\"].strip()]\n",
    "    # to remove duplicate friends\n",
    "    for user in data[\"users\"]:\n",
    "        user['friends']=list(set(user['friends']))\n",
    "    #remove inactive users\n",
    "    data[\"users\"]=[user for user in data[\"users\"] if user[\"friends\"] or user['liked_pages'] ]\n",
    "    #remove duplicate page \n",
    "    unique_pages={}\n",
    "    for page in data['pages']:\n",
    "         unique_pages[page['id']]=page\n",
    "    data['pages']=list(unique_pages.values())\n",
    "    return data\n",
    "\n",
    "\n",
    "#load the data \n",
    "data=json.load(open(\"data.json\"))\n",
    "data = clean_data(data)\n",
    "json.dump(data,open(\"cleaned_data2.json\",\"w\"),indent=4)\n",
    "print (\"Data has been clean successfully\")"
   ]
  },
  {
   "cell_type": "code",
   "execution_count": null,
   "id": "bd80531f-910f-473a-b1d3-1a56fdcbc8bb",
   "metadata": {},
   "outputs": [],
   "source": []
  }
 ],
 "metadata": {
  "kernelspec": {
   "display_name": "Python 3 (ipykernel)",
   "language": "python",
   "name": "python3"
  },
  "language_info": {
   "codemirror_mode": {
    "name": "ipython",
    "version": 3
   },
   "file_extension": ".py",
   "mimetype": "text/x-python",
   "name": "python",
   "nbconvert_exporter": "python",
   "pygments_lexer": "ipython3",
   "version": "3.13.2"
  }
 },
 "nbformat": 4,
 "nbformat_minor": 5
}
