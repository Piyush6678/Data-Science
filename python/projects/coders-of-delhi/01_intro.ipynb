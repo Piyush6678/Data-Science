{
 "cells": [
  {
   "cell_type": "code",
   "execution_count": 1,
   "id": "c1d6d462-76c2-4cb3-803b-4ca6a0f81207",
   "metadata": {},
   "outputs": [],
   "source": [
    "import json"
   ]
  },
  {
   "cell_type": "code",
   "execution_count": 2,
   "id": "c6486ff7-0169-40c9-ab90-ed3563f70c19",
   "metadata": {},
   "outputs": [],
   "source": [
    "# function to load the data\n",
    "def load_data(filename):\n",
    "    with open(filename,\"r\") as f:\n",
    "        data=json.load(f)\n",
    "    return data"
   ]
  },
  {
   "cell_type": "code",
   "execution_count": 3,
   "id": "c6c258ec-3ba8-410e-a183-324642a18037",
   "metadata": {},
   "outputs": [],
   "source": [
    "data=load_data(\"data.json\")"
   ]
  },
  {
   "cell_type": "code",
   "execution_count": 4,
   "id": "00e38ca9-03ab-4bca-b61a-8d39ff2ec4dd",
   "metadata": {},
   "outputs": [
    {
     "data": {
      "text/plain": [
       "{'users': [{'id': 1, 'name': 'Amit', 'friends': [2, 3], 'liked_pages': [101]},\n",
       "  {'id': 2, 'name': 'Priya', 'friends': [1, 4], 'liked_pages': [102]},\n",
       "  {'id': 3, 'name': 'Rahul', 'friends': [1], 'liked_pages': [101, 103]},\n",
       "  {'id': 4, 'name': 'Sara', 'friends': [2], 'liked_pages': [104]}],\n",
       " 'pages': [{'id': 101, 'name': 'Python Developers'},\n",
       "  {'id': 102, 'name': 'Data Science Enthusiasts'},\n",
       "  {'id': 103, 'name': 'AI & ML Community'},\n",
       "  {'id': 104, 'name': 'Web Dev Hub'}]}"
      ]
     },
     "execution_count": 4,
     "metadata": {},
     "output_type": "execute_result"
    }
   ],
   "source": [
    "data\n",
    "\n"
   ]
  },
  {
   "cell_type": "code",
   "execution_count": 5,
   "id": "9a357fe6-a59e-4ef2-914e-2192d48e37e8",
   "metadata": {},
   "outputs": [
    {
     "data": {
      "text/plain": [
       "dict"
      ]
     },
     "execution_count": 5,
     "metadata": {},
     "output_type": "execute_result"
    }
   ],
   "source": [
    "type(data)"
   ]
  },
  {
   "cell_type": "code",
   "execution_count": null,
   "id": "352ac482-b8fd-4579-8587-6fc899f767aa",
   "metadata": {},
   "outputs": [],
   "source": [
    "# write a function to display usersa and their connection"
   ]
  },
  {
   "cell_type": "code",
   "execution_count": 11,
   "id": "a9e5e7dc-cea2-4dfe-9f83-3942cfb8b3b3",
   "metadata": {},
   "outputs": [
    {
     "name": "stdout",
     "output_type": "stream",
     "text": [
      "users and their connection \n",
      "\n",
      "Amit  id : 1  is friends with[2, 3] and liked pages are [101]  \n",
      "Priya  id : 2  is friends with[1, 4] and liked pages are [102]  \n",
      "Rahul  id : 3  is friends with[1] and liked pages are [101, 103]  \n",
      "Sara  id : 4  is friends with[2] and liked pages are [104]  \n",
      "Pages information\n",
      "page 101 is about  Python Developers \n",
      "page 102 is about  Data Science Enthusiasts \n",
      "page 103 is about  AI & ML Community \n",
      "page 104 is about  Web Dev Hub \n"
     ]
    }
   ],
   "source": [
    "def display_users(data):\n",
    "    print(\"users and their connection \\n\")\n",
    "    for user in data['users']:\n",
    "        print(f\"{user['name']}  id : {user['id']}  is friends with{user['friends']} and liked pages are {user['liked_pages']}  \")\n",
    "    print(\"Pages information\")\n",
    "    for page in data['pages']:\n",
    "        print (f\"page {page['id']} is about  {page['name']} \")\n",
    "        \n",
    "\n",
    "display_users(data)\n",
    "\n",
    "        "
   ]
  },
  {
   "cell_type": "code",
   "execution_count": null,
   "id": "b928f0f2-bd98-47e0-a267-e0b2286f3f65",
   "metadata": {},
   "outputs": [],
   "source": []
  }
 ],
 "metadata": {
  "kernelspec": {
   "display_name": "Python 3 (ipykernel)",
   "language": "python",
   "name": "python3"
  },
  "language_info": {
   "codemirror_mode": {
    "name": "ipython",
    "version": 3
   },
   "file_extension": ".py",
   "mimetype": "text/x-python",
   "name": "python",
   "nbconvert_exporter": "python",
   "pygments_lexer": "ipython3",
   "version": "3.13.2"
  }
 },
 "nbformat": 4,
 "nbformat_minor": 5
}
