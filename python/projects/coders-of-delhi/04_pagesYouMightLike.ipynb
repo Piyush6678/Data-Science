{
 "cells": [
  {
   "cell_type": "code",
   "execution_count": 8,
   "id": "a74efa91-8e86-4852-8644-401a5c46b432",
   "metadata": {},
   "outputs": [
    {
     "name": "stdout",
     "output_type": "stream",
     "text": [
      "pages you might like for User 1 : [(103, 2), (105, 1), (107, 1), (104, 0), (106, 0), (108, 0), (109, 0), (110, 0), (111, 0), (112, 0), (113, 0), (114, 0), (115, 0), (116, 0), (117, 0), (118, 0), (119, 0), (120, 0), (121, 0), (122, 0), (123, 0), (124, 0), (125, 0), (126, 0), (127, 0)]\n"
     ]
    }
   ],
   "source": [
    "import json\n",
    "def data_load(filename):\n",
    "    with open(filename,\"r\") as f :\n",
    "        return json.load(f)\n",
    "\n",
    "def pagesYouMightLike(userId,data):\n",
    "    likedPages={}\n",
    "    for user in data['users']:\n",
    "        likedPages[user['id']]=set(user['liked_pages'])\n",
    "\n",
    "    if userId not in likedPages:\n",
    "        return []\n",
    "\n",
    "    userlikedPages=likedPages[userId]\n",
    "    pageSuggestion={}\n",
    "\n",
    "    for otherUser,pages in likedPages.items():\n",
    "        if otherUser !=userId :\n",
    "            sharedPages=userlikedPages.intersection(pages)\n",
    "        for page in pages:\n",
    "            if page not in userlikedPages:\n",
    "                pageSuggestion[page]=pageSuggestion.get(page,0)+len(sharedPages)\n",
    "\n",
    "    sortedPages=sorted(pageSuggestion.items(),key=lambda x:x[1],reverse=True)\n",
    "    return [(pageId,score) for pageId ,score in sortedPages]\n",
    "\n",
    "\n",
    "# Load Data \n",
    "data =data_load(\"data3.json\")\n",
    "userId=1\n",
    "pagerecc=pagesYouMightLike(userId,data)\n",
    "print(f\"pages you might like for User {userId} : {pagerecc}\")"
   ]
  }
 ],
 "metadata": {
  "kernelspec": {
   "display_name": "Python 3 (ipykernel)",
   "language": "python",
   "name": "python3"
  },
  "language_info": {
   "codemirror_mode": {
    "name": "ipython",
    "version": 3
   },
   "file_extension": ".py",
   "mimetype": "text/x-python",
   "name": "python",
   "nbconvert_exporter": "python",
   "pygments_lexer": "ipython3",
   "version": "3.13.2"
  }
 },
 "nbformat": 4,
 "nbformat_minor": 5
}
