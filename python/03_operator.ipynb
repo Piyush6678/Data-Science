{
 "cells": [
  {
   "cell_type": "markdown",
   "id": "63384150-0b41-4dcc-bd3a-6330ac56c8ec",
   "metadata": {},
   "source": [
    "# Arithmetic Operator\n"
   ]
  },
  {
   "cell_type": "code",
   "execution_count": 4,
   "id": "00de9b31-512c-4b98-8ec4-5311bcd777d9",
   "metadata": {},
   "outputs": [
    {
     "name": "stdout",
     "output_type": "stream",
     "text": [
      "15\n",
      "5\n",
      "50\n",
      "2.0\n",
      "2\n",
      "0\n",
      "100000\n"
     ]
    }
   ],
   "source": [
    "a=10 \n",
    "b=5\n",
    "print(a+b)\n",
    "print(a-b)\n",
    "print(a*b)\n",
    "print(a/b) #always gives floating number\n",
    "print(a//b) # gives integer\n",
    "print(a%b) #gives remainder\n",
    "print(a**b) #exponential 100000"
   ]
  },
  {
   "cell_type": "markdown",
   "id": "d63682c4-57f5-43ff-8d59-73b40b8cae57",
   "metadata": {},
   "source": [
    "# Comparision operator\n"
   ]
  },
  {
   "cell_type": "code",
   "execution_count": 6,
   "id": "639494f5-222d-4d3d-800e-be23ed4053d3",
   "metadata": {},
   "outputs": [
    {
     "data": {
      "text/plain": [
       "False"
      ]
     },
     "execution_count": 6,
     "metadata": {},
     "output_type": "execute_result"
    }
   ],
   "source": [
    "a==b"
   ]
  },
  {
   "cell_type": "code",
   "execution_count": 7,
   "id": "50333ab4-e877-4e98-9848-8d6779517b35",
   "metadata": {},
   "outputs": [
    {
     "data": {
      "text/plain": [
       "True"
      ]
     },
     "execution_count": 7,
     "metadata": {},
     "output_type": "execute_result"
    }
   ],
   "source": [
    "a!=b "
   ]
  },
  {
   "cell_type": "code",
   "execution_count": 8,
   "id": "947d6f1c-84c6-4751-9647-f22ec888e685",
   "metadata": {},
   "outputs": [
    {
     "data": {
      "text/plain": [
       "True"
      ]
     },
     "execution_count": 8,
     "metadata": {},
     "output_type": "execute_result"
    }
   ],
   "source": [
    "a>b"
   ]
  },
  {
   "cell_type": "code",
   "execution_count": 9,
   "id": "3eea37f6-6039-4d68-bff3-4821fc88ff6d",
   "metadata": {},
   "outputs": [
    {
     "data": {
      "text/plain": [
       "False"
      ]
     },
     "execution_count": 9,
     "metadata": {},
     "output_type": "execute_result"
    }
   ],
   "source": [
    "a<b"
   ]
  },
  {
   "cell_type": "code",
   "execution_count": 10,
   "id": "6eaa6022-2712-4107-8559-57bf04f4c999",
   "metadata": {},
   "outputs": [
    {
     "data": {
      "text/plain": [
       "False"
      ]
     },
     "execution_count": 10,
     "metadata": {},
     "output_type": "execute_result"
    }
   ],
   "source": [
    "a<=b\n"
   ]
  },
  {
   "cell_type": "code",
   "execution_count": 11,
   "id": "4e666d6e-d684-4fbc-b192-b519784e85c1",
   "metadata": {},
   "outputs": [
    {
     "data": {
      "text/plain": [
       "True"
      ]
     },
     "execution_count": 11,
     "metadata": {},
     "output_type": "execute_result"
    }
   ],
   "source": [
    "a>=b"
   ]
  },
  {
   "cell_type": "markdown",
   "id": "c530df2d-7210-47aa-8dba-5a5c5908670c",
   "metadata": {},
   "source": [
    "# logical Operator\n"
   ]
  },
  {
   "cell_type": "markdown",
   "id": "36f617d5-8b7f-4367-b307-cc2e290df860",
   "metadata": {},
   "source": [
    "Description\tExample (x=True, y=False)\n",
    "and ->\tBoth True\tx and y  # False\n",
    "or\t->  Either True\tx or y  # True\n",
    "not\t->  Negation\tnot x  # False"
   ]
  },
  {
   "cell_type": "markdown",
   "id": "2a500b4b-5cb7-4242-90a2-9011d1e62648",
   "metadata": {},
   "source": [
    "# Bitwise operator"
   ]
  },
  {
   "cell_type": "code",
   "execution_count": 15,
   "id": "e0bdb361-42f8-408d-8f28-efa649110657",
   "metadata": {},
   "outputs": [
    {
     "data": {
      "text/plain": [
       "1"
      ]
     },
     "execution_count": 15,
     "metadata": {},
     "output_type": "execute_result"
    }
   ],
   "source": [
    "a=5\n",
    "b=3\n",
    "a&b #1\n",
    "# a -> 101 b->011\n"
   ]
  },
  {
   "cell_type": "code",
   "execution_count": null,
   "id": "5466c795-fcce-433d-86e8-335299e17d8e",
   "metadata": {},
   "outputs": [],
   "source": [
    " a|b # 7"
   ]
  },
  {
   "cell_type": "code",
   "execution_count": null,
   "id": "5cf8d28a-eb36-4fb9-b288-8d6a1da5ec4f",
   "metadata": {},
   "outputs": [],
   "source": []
  }
 ],
 "metadata": {
  "kernelspec": {
   "display_name": "Python 3 (ipykernel)",
   "language": "python",
   "name": "python3"
  },
  "language_info": {
   "codemirror_mode": {
    "name": "ipython",
    "version": 3
   },
   "file_extension": ".py",
   "mimetype": "text/x-python",
   "name": "python",
   "nbconvert_exporter": "python",
   "pygments_lexer": "ipython3",
   "version": "3.13.2"
  }
 },
 "nbformat": 4,
 "nbformat_minor": 5
}
