{
 "cells": [
  {
   "cell_type": "code",
   "execution_count": 1,
   "id": "cde23b90-c47f-4503-b548-8950123e6351",
   "metadata": {},
   "outputs": [],
   "source": [
    "name=\"piyush\"\n"
   ]
  },
  {
   "cell_type": "code",
   "execution_count": 2,
   "id": "fcdeee04-d89c-41f3-8306-24b7d625de65",
   "metadata": {},
   "outputs": [
    {
     "data": {
      "text/plain": [
       "'piyush'"
      ]
     },
     "execution_count": 2,
     "metadata": {},
     "output_type": "execute_result"
    }
   ],
   "source": [
    "name"
   ]
  },
  {
   "cell_type": "code",
   "execution_count": 3,
   "id": "35f45fa2-d20d-43d4-8551-63ce9f4aa4bc",
   "metadata": {},
   "outputs": [
    {
     "data": {
      "text/plain": [
       "<function str.upper()>"
      ]
     },
     "execution_count": 3,
     "metadata": {},
     "output_type": "execute_result"
    }
   ],
   "source": [
    "name.upper"
   ]
  },
  {
   "cell_type": "code",
   "execution_count": 4,
   "id": "c83c69e0-1230-4b27-9f51-920062f31c01",
   "metadata": {},
   "outputs": [
    {
     "data": {
      "text/plain": [
       "'PIYUSH'"
      ]
     },
     "execution_count": 4,
     "metadata": {},
     "output_type": "execute_result"
    }
   ],
   "source": [
    "name.upper()"
   ]
  },
  {
   "cell_type": "code",
   "execution_count": 5,
   "id": "525b2fbb-9e6b-4248-ae9f-15256a63d94d",
   "metadata": {},
   "outputs": [
    {
     "data": {
      "text/plain": [
       "False"
      ]
     },
     "execution_count": 5,
     "metadata": {},
     "output_type": "execute_result"
    }
   ],
   "source": [
    "name.endswith(\"SH\")"
   ]
  },
  {
   "cell_type": "code",
   "execution_count": 6,
   "id": "bdddb388-3ac2-498a-aa80-1e4ac6da1e76",
   "metadata": {},
   "outputs": [
    {
     "data": {
      "text/plain": [
       "'piyush'"
      ]
     },
     "execution_count": 6,
     "metadata": {},
     "output_type": "execute_result"
    }
   ],
   "source": [
    "name"
   ]
  },
  {
   "cell_type": "code",
   "execution_count": 7,
   "id": "6ef169ea-f2eb-42da-8741-9194e3c05db3",
   "metadata": {},
   "outputs": [
    {
     "data": {
      "text/plain": [
       "'piyush'"
      ]
     },
     "execution_count": 7,
     "metadata": {},
     "output_type": "execute_result"
    }
   ],
   "source": [
    "name.lower()\n"
   ]
  },
  {
   "cell_type": "code",
   "execution_count": 12,
   "id": "7391b3cd-c7d8-43d8-842b-7c1337971291",
   "metadata": {},
   "outputs": [
    {
     "data": {
      "text/plain": [
       "'pi'"
      ]
     },
     "execution_count": 12,
     "metadata": {},
     "output_type": "execute_result"
    }
   ],
   "source": [
    "name[0:2]"
   ]
  },
  {
   "cell_type": "code",
   "execution_count": 14,
   "id": "16c564bb-cf5f-42e9-9960-e2060a229623",
   "metadata": {},
   "outputs": [
    {
     "data": {
      "text/plain": [
       "'iyus'"
      ]
     },
     "execution_count": 14,
     "metadata": {},
     "output_type": "execute_result"
    }
   ],
   "source": [
    "name[1:-1]\n",
    "name[1:5]"
   ]
  },
  {
   "cell_type": "code",
   "execution_count": null,
   "id": "f87c3aea-e26e-437b-abc0-47a89002fef1",
   "metadata": {},
   "outputs": [],
   "source": []
  }
 ],
 "metadata": {
  "kernelspec": {
   "display_name": "Python 3 (ipykernel)",
   "language": "python",
   "name": "python3"
  },
  "language_info": {
   "codemirror_mode": {
    "name": "ipython",
    "version": 3
   },
   "file_extension": ".py",
   "mimetype": "text/x-python",
   "name": "python",
   "nbconvert_exporter": "python",
   "pygments_lexer": "ipython3",
   "version": "3.13.2"
  }
 },
 "nbformat": 4,
 "nbformat_minor": 5
}
