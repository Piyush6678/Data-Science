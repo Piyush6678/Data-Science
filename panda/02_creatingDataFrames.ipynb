{
 "cells": [
  {
   "cell_type": "code",
   "execution_count": 1,
   "id": "964a2d91-2521-467c-9a4c-aaa8ebe90457",
   "metadata": {},
   "outputs": [],
   "source": [
    "import pandas as pd"
   ]
  },
  {
   "cell_type": "markdown",
   "id": "01d77a3f-a926-4b18-855d-75ae3aa399d7",
   "metadata": {},
   "source": [
    "# from 2d array"
   ]
  },
  {
   "cell_type": "code",
   "execution_count": 2,
   "id": "e9f9a548-de18-42d9-a828-bfd8cab5e58d",
   "metadata": {},
   "outputs": [
    {
     "name": "stdout",
     "output_type": "stream",
     "text": [
      "    name  age\n",
      "0  Alice   25\n",
      "1  Rohan   26\n",
      "2   John   23\n"
     ]
    }
   ],
   "source": [
    "data=[\n",
    "[\"Alice\",25],\n",
    "[\"Rohan\",26],\n",
    "[\"John\",23],\n",
    "]\n",
    "df=pd.DataFrame(data,columns=[\"name\",\"age\"])\n",
    "print(df)"
   ]
  },
  {
   "cell_type": "markdown",
   "id": "420671b5-9145-4c5b-8d11-174db65997d4",
   "metadata": {},
   "source": [
    "# From Dictionary"
   ]
  },
  {
   "cell_type": "code",
   "execution_count": 3,
   "id": "4971e6e1-759a-4b6b-a994-264c8e28fadd",
   "metadata": {},
   "outputs": [
    {
     "name": "stdout",
     "output_type": "stream",
     "text": [
      "    name  age\n",
      "0  Alice   23\n",
      "1  Roham   24\n",
      "2  Sohan   26\n"
     ]
    }
   ],
   "source": [
    "data={\n",
    "\"name\":[\"Alice\",\"Roham\",\"Sohan\"],\n",
    "\n",
    "\"age\":[23,24,26]\n",
    "}\n",
    "df2=pd.DataFrame(data)\n",
    "print(df2)"
   ]
  },
  {
   "cell_type": "code",
   "execution_count": 4,
   "id": "9285b5dd-4077-46d8-875c-837e988e7254",
   "metadata": {},
   "outputs": [],
   "source": [
    "import numpy as np"
   ]
  },
  {
   "cell_type": "code",
   "execution_count": 5,
   "id": "d6fcd4e4-57c2-4624-a53e-53d77938da6e",
   "metadata": {},
   "outputs": [
    {
     "name": "stdout",
     "output_type": "stream",
     "text": [
      "   A  B\n",
      "0  1  2\n",
      "1  3  4\n"
     ]
    }
   ],
   "source": [
    "arr=np.array([[1,2],[3,4]])\n",
    "df3=pd.DataFrame(arr,columns=[\"A\",\"B\"])\n",
    "print(df3)"
   ]
  },
  {
   "cell_type": "markdown",
   "id": "c2ea48ef-11bd-4020-b6b1-e25c3c700810",
   "metadata": {},
   "source": [
    "# reading excel"
   ]
  },
  {
   "cell_type": "code",
   "execution_count": 6,
   "id": "ee1e6095-6087-4d4f-96d3-8bd39451dc99",
   "metadata": {},
   "outputs": [],
   "source": [
    "df4=pd.read_excel(\"data.xlsx\")"
   ]
  },
  {
   "cell_type": "code",
   "execution_count": 7,
   "id": "54d16be7-6ac8-4db8-8566-0a3bfc613393",
   "metadata": {},
   "outputs": [
    {
     "name": "stdout",
     "output_type": "stream",
     "text": [
      "       name School  marks\n",
      "0   Shubham    urs     98\n",
      "1     Rohan    urd     85\n",
      "2     Soham    are     86\n",
      "3    Piyush    trf     98\n",
      "4  Shivansh    tew     94\n",
      "5    mridul    rrs     93\n",
      "6    Aakash    dps     81\n",
      "7    Joshua    lps     72\n"
     ]
    }
   ],
   "source": [
    "print(df4)"
   ]
  },
  {
   "cell_type": "markdown",
   "id": "7144e1f6-e1b5-45db-8cbf-cc298e46ae68",
   "metadata": {},
   "source": [
    "# Reading CSv"
   ]
  },
  {
   "cell_type": "code",
   "execution_count": 8,
   "id": "f19ea246-91e9-4787-8eb6-581c1d58b017",
   "metadata": {},
   "outputs": [],
   "source": [
    "df4=pd.read_csv(\"data2.csv\")"
   ]
  },
  {
   "cell_type": "markdown",
   "id": "6bfb0918-5e20-45f5-a754-2c2671f65e89",
   "metadata": {},
   "source": [
    "# reading json\n"
   ]
  },
  {
   "cell_type": "code",
   "execution_count": 11,
   "id": "3d9461a0-151d-4658-857b-7d700901a0c4",
   "metadata": {},
   "outputs": [],
   "source": [
    "df = pd.read_json(\"data.json\")"
   ]
  },
  {
   "cell_type": "code",
   "execution_count": 12,
   "id": "2b24254a-d113-470d-bb78-c4e4485b9478",
   "metadata": {},
   "outputs": [
    {
     "name": "stdout",
     "output_type": "stream",
     "text": [
      "     name  age\n",
      "0  piyush   20\n",
      "1   rohan   21\n"
     ]
    }
   ],
   "source": [
    "print(df)"
   ]
  },
  {
   "cell_type": "code",
   "execution_count": null,
   "id": "7f34fdc0-e6d6-4f57-a74e-6583c654ada2",
   "metadata": {},
   "outputs": [],
   "source": []
  }
 ],
 "metadata": {
  "kernelspec": {
   "display_name": "Python 3 (ipykernel)",
   "language": "python",
   "name": "python3"
  },
  "language_info": {
   "codemirror_mode": {
    "name": "ipython",
    "version": 3
   },
   "file_extension": ".py",
   "mimetype": "text/x-python",
   "name": "python",
   "nbconvert_exporter": "python",
   "pygments_lexer": "ipython3",
   "version": "3.11.11"
  }
 },
 "nbformat": 4,
 "nbformat_minor": 5
}
