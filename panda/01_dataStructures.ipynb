{
 "cells": [
  {
   "cell_type": "code",
   "execution_count": 1,
   "id": "97bc7ca8-3eb5-4c91-8b7d-a106841ee193",
   "metadata": {},
   "outputs": [],
   "source": [
    "import pandas as pd\n"
   ]
  },
  {
   "cell_type": "markdown",
   "id": "b0018cc3-386e-4c8c-a9e1-e5c494440692",
   "metadata": {},
   "source": [
    "# series\n",
    "1D Labeled array"
   ]
  },
  {
   "cell_type": "code",
   "execution_count": 2,
   "id": "4e47a83b-7d6f-4220-9a7b-93995fc0f400",
   "metadata": {},
   "outputs": [
    {
     "data": {
      "text/plain": [
       "pandas.core.series.Series"
      ]
     },
     "execution_count": 2,
     "metadata": {},
     "output_type": "execute_result"
    }
   ],
   "source": [
    "s1=pd.Series([78,45,89,68,97,85])\n",
    "type(s1)"
   ]
  },
  {
   "cell_type": "code",
   "execution_count": 4,
   "id": "cf742d69-c62a-4d2a-ad3a-5a49d62dc9da",
   "metadata": {},
   "outputs": [
    {
     "name": "stdout",
     "output_type": "stream",
     "text": [
      "0    78\n",
      "1    45\n",
      "2    89\n",
      "3    68\n",
      "4    97\n",
      "5    85\n",
      "dtype: int64\n"
     ]
    }
   ],
   "source": [
    "print(s1)"
   ]
  },
  {
   "cell_type": "code",
   "execution_count": 5,
   "id": "de344dd0-1bac-4819-8062-100463d19fed",
   "metadata": {},
   "outputs": [
    {
     "name": "stdout",
     "output_type": "stream",
     "text": [
      "Kashish     75\n",
      "Abbas       89\n",
      "krishna     84\n",
      "Shivansh    96\n",
      "Mridul      94\n",
      "john        78\n",
      "rohan       92\n",
      "Piyush      99\n",
      "dtype: int64\n"
     ]
    }
   ],
   "source": [
    "s2=pd.Series([75,89,84,96,94,78,92,99], index=[\"Kashish\",\"Abbas\",\"krishna\",\"Shivansh\",\"Mridul\",\"john\",\"rohan\",\"Piyush\"])\n",
    "print(s2)"
   ]
  },
  {
   "cell_type": "code",
   "execution_count": 6,
   "id": "18d91727-85a1-4f93-92aa-1389a09a3a7f",
   "metadata": {},
   "outputs": [
    {
     "data": {
      "text/plain": [
       "np.int64(99)"
      ]
     },
     "execution_count": 6,
     "metadata": {},
     "output_type": "execute_result"
    }
   ],
   "source": [
    "s2[\"Piyush\"]"
   ]
  },
  {
   "cell_type": "markdown",
   "id": "c4ef5be3-2e18-44d7-bcc1-448819e1dda2",
   "metadata": {},
   "source": [
    "# Data Frame\n",
    "2D Labeled array"
   ]
  },
  {
   "cell_type": "code",
   "execution_count": 9,
   "id": "80617ab5-fb66-4264-bf28-a1c16fe4936f",
   "metadata": {},
   "outputs": [],
   "source": [
    "data = {\n",
    "\"name\":\n",
    "    [\"Rahul\",\"Mohan\",\"Sohan\"],\n",
    "\"age\":\n",
    "    [24,25,23],\n",
    "\"city\":\n",
    "    [\"Delhi\",\"UP\",\"Haryana\"]\n",
    "}\n"
   ]
  },
  {
   "cell_type": "code",
   "execution_count": 12,
   "id": "f2e1504d-e298-4992-baba-7f37c3054f9a",
   "metadata": {},
   "outputs": [],
   "source": [
    "df=pd.DataFrame(data)"
   ]
  },
  {
   "cell_type": "code",
   "execution_count": 13,
   "id": "c80a8255-aaf0-4709-9643-8ce73ade99d8",
   "metadata": {},
   "outputs": [
    {
     "data": {
      "text/plain": [
       "RangeIndex(start=0, stop=3, step=1)"
      ]
     },
     "execution_count": 13,
     "metadata": {},
     "output_type": "execute_result"
    }
   ],
   "source": [
    "df.index"
   ]
  },
  {
   "cell_type": "code",
   "execution_count": 14,
   "id": "388f4793-9a77-4865-95bf-ab140d746909",
   "metadata": {},
   "outputs": [
    {
     "data": {
      "text/plain": [
       "Index(['name', 'age', 'city'], dtype='object')"
      ]
     },
     "execution_count": 14,
     "metadata": {},
     "output_type": "execute_result"
    }
   ],
   "source": [
    "df.columns\n"
   ]
  },
  {
   "cell_type": "code",
   "execution_count": null,
   "id": "906ae2e8-439b-454c-9173-6157992ae365",
   "metadata": {},
   "outputs": [],
   "source": []
  }
 ],
 "metadata": {
  "kernelspec": {
   "display_name": "Python 3 (ipykernel)",
   "language": "python",
   "name": "python3"
  },
  "language_info": {
   "codemirror_mode": {
    "name": "ipython",
    "version": 3
   },
   "file_extension": ".py",
   "mimetype": "text/x-python",
   "name": "python",
   "nbconvert_exporter": "python",
   "pygments_lexer": "ipython3",
   "version": "3.11.11"
  }
 },
 "nbformat": 4,
 "nbformat_minor": 5
}
