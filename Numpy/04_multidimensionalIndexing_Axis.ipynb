{
 "cells": [
  {
   "cell_type": "code",
   "execution_count": 1,
   "id": "a80ceb11-94c2-4183-a6e6-7b5fb121670f",
   "metadata": {},
   "outputs": [
    {
     "name": "stdout",
     "output_type": "stream",
     "text": [
      "[[1 2 3]\n",
      " [4 5 6]\n",
      " [7 8 9]]\n"
     ]
    }
   ],
   "source": [
    "import numpy as np\n",
    "\n",
    "arr = np.array([[1, 2, 3], \n",
    "                [4, 5, 6], \n",
    "                [7, 8, 9]])\n",
    "\n",
    "print(arr)"
   ]
  },
  {
   "cell_type": "code",
   "execution_count": 3,
   "id": "5fc0aa51-0749-443e-9300-951ea9dc8c95",
   "metadata": {},
   "outputs": [
    {
     "name": "stdout",
     "output_type": "stream",
     "text": [
      "[12 15 18]\n"
     ]
    }
   ],
   "source": [
    "# gives array of sum of column\n",
    "print(np.sum(arr,axis=0)) #Sum along rows (down each column)  \n"
   ]
  },
  {
   "cell_type": "code",
   "execution_count": 4,
   "id": "82ff03cd-2714-4c8f-a835-7d1a4b5a7fc3",
   "metadata": {},
   "outputs": [
    {
     "name": "stdout",
     "output_type": "stream",
     "text": [
      "[ 6 15 24]\n"
     ]
    }
   ],
   "source": [
    "# gives array of sum of rows\n",
    "print(np.sum(arr, axis=1))  # Sum along columns (across each row) \n"
   ]
  },
  {
   "cell_type": "code",
   "execution_count": 5,
   "id": "587824db-e2fc-467e-b88a-57e3f607dac3",
   "metadata": {},
   "outputs": [
    {
     "data": {
      "text/plain": [
       "np.int64(2)"
      ]
     },
     "execution_count": 5,
     "metadata": {},
     "output_type": "execute_result"
    }
   ],
   "source": [
    "arr[0][1]"
   ]
  },
  {
   "cell_type": "code",
   "execution_count": 6,
   "id": "25f62a95-c1e4-4aaa-89e0-65dc2933604f",
   "metadata": {},
   "outputs": [
    {
     "data": {
      "text/plain": [
       "np.int64(2)"
      ]
     },
     "execution_count": 6,
     "metadata": {},
     "output_type": "execute_result"
    }
   ],
   "source": [
    "arr[0,1]  0 row 1column"
   ]
  },
  {
   "cell_type": "code",
   "execution_count": 7,
   "id": "d4657655-7d80-476e-a8c3-439f1004c2f3",
   "metadata": {},
   "outputs": [
    {
     "data": {
      "text/plain": [
       "array([[2, 3],\n",
       "       [5, 6]])"
      ]
     },
     "execution_count": 7,
     "metadata": {},
     "output_type": "execute_result"
    }
   ],
   "source": [
    "arr [0:2,1:3] # row 1 and 1 col 1 and 2"
   ]
  },
  {
   "cell_type": "code",
   "execution_count": 14,
   "id": "15d5b79e-ad98-4963-9f29-62c992c39895",
   "metadata": {},
   "outputs": [
    {
     "name": "stdout",
     "output_type": "stream",
     "text": [
      "(2, 2, 3)\n"
     ]
    }
   ],
   "source": [
    "arr3D = np.array([[[1, 2, 3], [4, 5, 6]],\n",
    "                  [[7, 8, 9], [10, 11, 12]]])\n",
    "\n",
    "# Output of arr3D.shape is → (depth, rows, columns)\n",
    "print(arr3D.shape)  # Output: (2, 2, 3) "
   ]
  },
  {
   "cell_type": "code",
   "execution_count": 15,
   "id": "07566613-2370-4734-9011-42d5d09e8e75",
   "metadata": {},
   "outputs": [
    {
     "name": "stdout",
     "output_type": "stream",
     "text": [
      "6\n",
      "[[1 2 3]\n",
      " [7 8 9]]\n"
     ]
    }
   ],
   "source": [
    "# First sheet, second row, third column\n",
    "print(arr3D[0, 1, 2])  # Output: 6\n",
    "\n",
    "print(arr3D[:, 0, :])   # Get the first row from both sheets"
   ]
  },
  {
   "cell_type": "code",
   "execution_count": 16,
   "id": "516159f5-0fad-4b1b-ab43-730c1b5f8665",
   "metadata": {},
   "outputs": [
    {
     "name": "stdout",
     "output_type": "stream",
     "text": [
      "[[ 8 10 12]\n",
      " [14 16 18]]\n"
     ]
    }
   ],
   "source": [
    "print(np.sum(arr3D, axis=0))"
   ]
  },
  {
   "cell_type": "code",
   "execution_count": 12,
   "id": "7a80ee2b-f5b9-4fd7-a688-6c108b52fc50",
   "metadata": {},
   "outputs": [
    {
     "data": {
      "text/plain": [
       "array([[[ 0,  0,  0],\n",
       "        [ 4,  5,  6]],\n",
       "\n",
       "       [[ 0,  0,  0],\n",
       "        [10, 11, 12]]])"
      ]
     },
     "execution_count": 12,
     "metadata": {},
     "output_type": "execute_result"
    }
   ],
   "source": [
    "arr3D[:, 0, :]=0\n",
    "arr3D"
   ]
  }
 ],
 "metadata": {
  "kernelspec": {
   "display_name": "Python 3 (ipykernel)",
   "language": "python",
   "name": "python3"
  },
  "language_info": {
   "codemirror_mode": {
    "name": "ipython",
    "version": 3
   },
   "file_extension": ".py",
   "mimetype": "text/x-python",
   "name": "python",
   "nbconvert_exporter": "python",
   "pygments_lexer": "ipython3",
   "version": "3.11.11"
  }
 },
 "nbformat": 4,
 "nbformat_minor": 5
}
