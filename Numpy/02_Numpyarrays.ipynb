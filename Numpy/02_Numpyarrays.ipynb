{
 "cells": [
  {
   "cell_type": "code",
   "execution_count": 7,
   "id": "270f45cf-2938-4892-aa0b-7a3855fd7156",
   "metadata": {},
   "outputs": [
    {
     "name": "stdout",
     "output_type": "stream",
     "text": [
      "[1 2 3]\n",
      "[[1 2 3]\n",
      " [4 5 6]]\n"
     ]
    }
   ],
   "source": [
    "import numpy as np\n",
    "arr=np.array([1,2,3])\n",
    "arr2=np.array([[1,2,3],[4,5,6]])\n",
    "print(arr)\n",
    "print(arr2)\n",
    "\n",
    "\n"
   ]
  },
  {
   "cell_type": "code",
   "execution_count": 13,
   "id": "ad260f1b-d6ef-4adb-86be-b7d6f39fff6a",
   "metadata": {},
   "outputs": [
    {
     "data": {
      "text/plain": [
       "array([[6, 6, 6, 6],\n",
       "       [6, 6, 6, 6],\n",
       "       [6, 6, 6, 6]])"
      ]
     },
     "execution_count": 13,
     "metadata": {},
     "output_type": "execute_result"
    }
   ],
   "source": [
    "np.zeros((3,3)) # 3x3 array of zeros\n",
    "np.ones((4,2)) # 4x2 array of one\n",
    "np.full((3,4),6) # 3x4 array of 6"
   ]
  },
  {
   "cell_type": "code",
   "execution_count": 14,
   "id": "9f220db6-9e2e-4b96-95f7-e32e3e5dece9",
   "metadata": {},
   "outputs": [
    {
     "name": "stdout",
     "output_type": "stream",
     "text": [
      "Shape: (2, 3)\n",
      "Size: 6\n",
      "Dimensions: 2\n",
      "Data type: int64\n"
     ]
    }
   ],
   "source": [
    "arr = np.array([[10, 20, 30], [40, 50, 60]])\n",
    "\n",
    "print(\"Shape:\", arr.shape)   # (2, 3) → 2 rows, 3 columns\n",
    "print(\"Size:\", arr.size)     # 6 → total elements\n",
    "print(\"Dimensions:\", arr.ndim) # 2 → 2D array\n",
    "print(\"Data type:\", arr.dtype) # int64 (or int32 on Windows)"
   ]
  },
  {
   "cell_type": "code",
   "execution_count": null,
   "id": "f6730b3a-6c7f-4a32-b0ac-c3d9639ed328",
   "metadata": {},
   "outputs": [],
   "source": [
    "arr = np.array([[1, 2, 3], [4, 5, 6]])\n",
    "print(arr.shape)  # (2, 3)\n",
    "\n",
    "reshaped = arr.reshape((3, 2))  # Change shape\n",
    "print(reshaped)\n",
    "# [[1 2]\n",
    "#  [3 4]\n",
    "#  [5 6]]\n",
    "\n",
    "flattened = arr.flatten()  # Convert 2D → 1D\n",
    "print(flattened)  # [1 2 3 4 5 6]"
   ]
  }
 ],
 "metadata": {
  "kernelspec": {
   "display_name": "Python 3 (ipykernel)",
   "language": "python",
   "name": "python3"
  },
  "language_info": {
   "codemirror_mode": {
    "name": "ipython",
    "version": 3
   },
   "file_extension": ".py",
   "mimetype": "text/x-python",
   "name": "python",
   "nbconvert_exporter": "python",
   "pygments_lexer": "ipython3",
   "version": "3.11.11"
  }
 },
 "nbformat": 4,
 "nbformat_minor": 5
}
