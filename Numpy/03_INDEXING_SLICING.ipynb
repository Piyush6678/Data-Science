{
 "cells": [
  {
   "cell_type": "code",
   "execution_count": 4,
   "id": "e54a0a87-2554-4c94-97a8-2026e0e2c677",
   "metadata": {},
   "outputs": [],
   "source": [
    "import numpy as np \n",
    "arr=np.array([[1,2,3],[4,5,6],[7,8,9],[10,11,12]])"
   ]
  },
  {
   "cell_type": "code",
   "execution_count": 6,
   "id": "92fa3153-c56c-4e9e-9c0f-7d7272734847",
   "metadata": {},
   "outputs": [
    {
     "data": {
      "text/plain": [
       "array([[ 1,  2,  3],\n",
       "       [ 4,  5,  6],\n",
       "       [ 7,  8,  9],\n",
       "       [10, 11, 12]])"
      ]
     },
     "execution_count": 6,
     "metadata": {},
     "output_type": "execute_result"
    }
   ],
   "source": [
    "arr"
   ]
  },
  {
   "cell_type": "code",
   "execution_count": 8,
   "id": "89102919-4f8e-46f7-909d-d21f73f50676",
   "metadata": {},
   "outputs": [],
   "source": [
    "flat=arr.flatten()"
   ]
  },
  {
   "cell_type": "code",
   "execution_count": 9,
   "id": "4db3e6b4-486d-4b12-b674-e1891a3417b5",
   "metadata": {},
   "outputs": [
    {
     "data": {
      "text/plain": [
       "array([ 1,  2,  3,  4,  5,  6,  7,  8,  9, 10, 11, 12])"
      ]
     },
     "execution_count": 9,
     "metadata": {},
     "output_type": "execute_result"
    }
   ],
   "source": [
    "flat"
   ]
  },
  {
   "cell_type": "code",
   "execution_count": 10,
   "id": "87214f9b-3518-41d8-b9a5-a3dd17bb514b",
   "metadata": {},
   "outputs": [
    {
     "data": {
      "text/plain": [
       "np.int64(1)"
      ]
     },
     "execution_count": 10,
     "metadata": {},
     "output_type": "execute_result"
    }
   ],
   "source": [
    "flat[0]"
   ]
  },
  {
   "cell_type": "code",
   "execution_count": 12,
   "id": "6cf82395-1a46-400d-bdf3-f87738ce39cf",
   "metadata": {},
   "outputs": [
    {
     "data": {
      "text/plain": [
       "np.int64(4)"
      ]
     },
     "execution_count": 12,
     "metadata": {},
     "output_type": "execute_result"
    }
   ],
   "source": [
    "flat[3]"
   ]
  },
  {
   "cell_type": "code",
   "execution_count": 13,
   "id": "a5d138b8-f7b5-4a4e-87e5-291e94076c78",
   "metadata": {},
   "outputs": [
    {
     "data": {
      "text/plain": [
       "array([4, 5, 6])"
      ]
     },
     "execution_count": 13,
     "metadata": {},
     "output_type": "execute_result"
    }
   ],
   "source": [
    "flat[3:6]"
   ]
  },
  {
   "cell_type": "code",
   "execution_count": 14,
   "id": "1198b264-3d80-4b2b-8ab1-2da879d552bf",
   "metadata": {},
   "outputs": [
    {
     "data": {
      "text/plain": [
       "array([1, 2, 3, 4, 5])"
      ]
     },
     "execution_count": 14,
     "metadata": {},
     "output_type": "execute_result"
    }
   ],
   "source": [
    "flat[:5] # same as flat[0:5]"
   ]
  },
  {
   "cell_type": "code",
   "execution_count": 15,
   "id": "3213e86e-e2c4-4223-8574-36ab56e0dfe9",
   "metadata": {},
   "outputs": [
    {
     "data": {
      "text/plain": [
       "array([1234,    6,    7])"
      ]
     },
     "execution_count": 15,
     "metadata": {},
     "output_type": "execute_result"
    }
   ],
   "source": [
    "flat[::2] # every 2 elemt\n",
    "b=flat[4:7]\n",
    "b[0]=1234 #index 4 (5th element 0 of flat is also changed\n",
    "b\n",
    "c=b.copy # or c=flat[4:7] is a copy \n"
   ]
  },
  {
   "cell_type": "code",
   "execution_count": 16,
   "id": "4fa7dd42-4aa1-45b3-9d63-c888498f6ca5",
   "metadata": {},
   "outputs": [
    {
     "data": {
      "text/plain": [
       "array([   1,    2,    3,    4, 1234,    6,    7,    8,    9,   10,   11,\n",
       "         12])"
      ]
     },
     "execution_count": 16,
     "metadata": {},
     "output_type": "execute_result"
    }
   ],
   "source": [
    "flat "
   ]
  },
  {
   "cell_type": "code",
   "execution_count": 22,
   "id": "25252803-bfc5-4954-b8da-9ffe67294b3e",
   "metadata": {},
   "outputs": [
    {
     "data": {
      "text/plain": [
       "array([54, 28, 65, 84,  4,  7])"
      ]
     },
     "execution_count": 22,
     "metadata": {},
     "output_type": "execute_result"
    }
   ],
   "source": [
    "arr2=np.array([1,54,28,65,2,3,84,0,0,-5,4,7])\n",
    " arr2[[2,1,3]] # elemnt at index 2 1 3\n",
    "arr2[arr2>3]    # element greater the 3\n"
   ]
  },
  {
   "cell_type": "code",
   "execution_count": null,
   "id": "f06650b9-6714-4463-864b-6ec936fb0c29",
   "metadata": {},
   "outputs": [],
   "source": []
  }
 ],
 "metadata": {
  "kernelspec": {
   "display_name": "Python 3 (ipykernel)",
   "language": "python",
   "name": "python3"
  },
  "language_info": {
   "codemirror_mode": {
    "name": "ipython",
    "version": 3
   },
   "file_extension": ".py",
   "mimetype": "text/x-python",
   "name": "python",
   "nbconvert_exporter": "python",
   "pygments_lexer": "ipython3",
   "version": "3.11.11"
  }
 },
 "nbformat": 4,
 "nbformat_minor": 5
}
