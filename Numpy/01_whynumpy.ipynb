{
 "cells": [
  {
   "cell_type": "code",
   "execution_count": 2,
   "id": "7e4c3899-797c-424b-866d-1a5685e3b57a",
   "metadata": {},
   "outputs": [
    {
     "name": "stdout",
     "output_type": "stream",
     "text": [
      "Python list addition time: 0.20058846473693848\n",
      "NumPy array addition time: 0.030230045318603516\n"
     ]
    }
   ],
   "source": [
    "import numpy as np\n",
    "import time\n",
    "\n",
    "# Python list\n",
    "size = 1_000_000\n",
    "list1 = list(range(size))\n",
    "list2 = list(range(size))\n",
    "\n",
    "start = time.time()\n",
    "result = [x + y for x, y in zip(list1, list2)]\n",
    "end = time.time()\n",
    "print(\"Python list addition time:\", end - start)\n",
    "\n",
    "# NumPy array\n",
    "arr1 = np.array(list1)\n",
    "arr2 = np.array(list2)\n",
    "\n",
    "start = time.time()\n",
    "result = arr1 + arr2  # Vectorized operation\n",
    "end = time.time()\n",
    "print(\"NumPy array addition time:\", end - start)"
   ]
  },
  {
   "cell_type": "code",
   "execution_count": 3,
   "id": "11752033-7b14-4b0a-b399-b57c094a176f",
   "metadata": {},
   "outputs": [
    {
     "name": "stdout",
     "output_type": "stream",
     "text": [
      "Python list size: 8056000 bytes\n",
      "NumPy array size: 8000 bytes\n"
     ]
    }
   ],
   "source": [
    "import sys\n",
    "\n",
    "list_data = list(range(1000))\n",
    "numpy_data = np.array(list_data)\n",
    "\n",
    "print(\"Python list size:\", sys.getsizeof(list_data) * len(list_data), \"bytes\")\n",
    "print(\"NumPy array size:\", numpy_data.nbytes, \"bytes\")"
   ]
  },
  {
   "cell_type": "code",
   "execution_count": 4,
   "id": "15456980-777d-439b-8326-ef3c7d96ebf3",
   "metadata": {},
   "outputs": [],
   "source": [
    "# Python list (loop-based)\n",
    "list_squares = [x ** 2 for x in list1]\n",
    "\n",
    "# NumPy (vectorized)\n",
    "numpy_squares = arr1 ** 2"
   ]
  },
  {
   "cell_type": "code",
   "execution_count": null,
   "id": "5835570a-e2a3-414c-b434-2025777de975",
   "metadata": {},
   "outputs": [],
   "source": []
  }
 ],
 "metadata": {
  "kernelspec": {
   "display_name": "Python 3 (ipykernel)",
   "language": "python",
   "name": "python3"
  },
  "language_info": {
   "codemirror_mode": {
    "name": "ipython",
    "version": 3
   },
   "file_extension": ".py",
   "mimetype": "text/x-python",
   "name": "python",
   "nbconvert_exporter": "python",
   "pygments_lexer": "ipython3",
   "version": "3.11.11"
  }
 },
 "nbformat": 4,
 "nbformat_minor": 5
}
