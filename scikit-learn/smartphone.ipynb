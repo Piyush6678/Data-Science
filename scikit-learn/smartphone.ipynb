{
 "cells": [
  {
   "cell_type": "code",
   "execution_count": 1,
   "id": "420d174e-dbe6-4d55-8fda-2611d4e3f0cb",
   "metadata": {},
   "outputs": [
    {
     "name": "stdout",
     "output_type": "stream",
     "text": [
      "   camera  age  ram  cpu_score  slot_sd  sims  price\n",
      "0     110    2    4         89        1     2  31596\n",
      "1     187    0    4         42        0     1  33530\n",
      "2     100    2    4         52        0     2   9262\n",
      "3      22    2    6         82        0     2  62199\n",
      "4     114    2   12         88        1     1  66287\n"
     ]
    }
   ],
   "source": [
    "import pandas as pd\n",
    "import numpy as np\n",
    "\n",
    "# Set random seed for reproducibility\n",
    "np.random.seed(42)\n",
    "\n",
    "# Define the number of rows\n",
    "num_rows = 1000\n",
    "\n",
    "# Generate data\n",
    "data = {\n",
    "    'camera': np.random.randint(8, 201, size=num_rows),         # Megapixels (8 to 200)\n",
    "    'age': np.random.randint(0, 4, size=num_rows),              # Age in years (0 to 3)\n",
    "    'ram': np.random.choice([4, 6, 8, 12, 16], size=num_rows),  # RAM in GB\n",
    "    'cpu_score': np.random.randint(40, 101, size=num_rows),     # CPU benchmark score (40 to 100)\n",
    "    'slot_sd': np.random.randint(0, 2, size=num_rows),          # SD card slot (0 = no, 1 = yes)\n",
    "    'sims': np.random.choice([1, 2], size=num_rows),            # Number of SIMs\n",
    "    'price': np.random.randint(8000, 70001, size=num_rows)      # Price in INR (₹8,000 to ₹70,000)\n",
    "}\n",
    "\n",
    "# Create DataFrame\n",
    "df = pd.DataFrame(data)\n",
    "\n",
    "# Save to CSV (optional)\n",
    "df.to_csv(\"smartphone_data.csv\", index=False)\n",
    "\n",
    "# Display first few rows\n",
    "print(df.head())"
   ]
  }
 ],
 "metadata": {
  "kernelspec": {
   "display_name": "Python 3 (ipykernel)",
   "language": "python",
   "name": "python3"
  },
  "language_info": {
   "codemirror_mode": {
    "name": "ipython",
    "version": 3
   },
   "file_extension": ".py",
   "mimetype": "text/x-python",
   "name": "python",
   "nbconvert_exporter": "python",
   "pygments_lexer": "ipython3",
   "version": "3.11.11"
  }
 },
 "nbformat": 4,
 "nbformat_minor": 5
}
