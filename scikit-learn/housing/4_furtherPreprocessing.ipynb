{
 "cells": [
  {
   "cell_type": "code",
   "execution_count": 1,
   "id": "2d551b1a-df4b-4284-b85a-42d48b9aa06f",
   "metadata": {},
   "outputs": [],
   "source": [
    "import pandas as pd\n",
    "import numpy as np\n",
    "import matplotlib.pyplot as plt\n"
   ]
  },
  {
   "cell_type": "code",
   "execution_count": 2,
   "id": "93adbcd6-37e0-4a22-b9fd-d97a4ec990f5",
   "metadata": {},
   "outputs": [],
   "source": [
    "df=pd.read_csv(\"housing.csv\")"
   ]
  },
  {
   "cell_type": "code",
   "execution_count": 3,
   "id": "3685434a-2349-48d5-91ae-a6e9ecd14d62",
   "metadata": {},
   "outputs": [],
   "source": [
    "df['income_cat']=pd.cut(df['median_income'],bins=[0,1.5,3,4.5,6.0,np.inf],labels=[1,2,3,4,5])"
   ]
  },
  {
   "cell_type": "code",
   "execution_count": 4,
   "id": "404657ec-0260-4065-b148-8351b562033d",
   "metadata": {},
   "outputs": [],
   "source": [
    "from sklearn.model_selection  import StratifiedShuffleSplit"
   ]
  },
  {
   "cell_type": "code",
   "execution_count": 5,
   "id": "0116643c-ae45-4336-9650-40aaf36147ce",
   "metadata": {},
   "outputs": [],
   "source": [
    "#Assume imncome cat is a column in the dataset created from median income\n",
    "split=StratifiedShuffleSplit(n_splits=1,test_size=0.2,random_state=42)\n"
   ]
  },
  {
   "cell_type": "code",
   "execution_count": 6,
   "id": "a83650c6-5bc6-4497-97be-5858f5f17902",
   "metadata": {},
   "outputs": [],
   "source": [
    "for train_index,test_index in split.split(df,df[\"income_cat\"]):\n",
    "    strat_train_set=df.loc[train_index]\n",
    "    strat_test_set=df.loc[test_index]"
   ]
  },
  {
   "cell_type": "code",
   "execution_count": 7,
   "id": "e17ed6dc-a354-4efa-80b0-7c029ca4975a",
   "metadata": {},
   "outputs": [],
   "source": [
    "\n",
    " #lets remove incom cat \n",
    "for sett in (strat_test_set,strat_train_set):\n",
    "    sett.drop(\"income_cat\",axis=1,inplace=True)\n",
    "    "
   ]
  },
  {
   "cell_type": "code",
   "execution_count": 8,
   "id": "3d3241be-886e-45f5-be7f-542bc8d49975",
   "metadata": {},
   "outputs": [],
   "source": [
    "df=strat_train_set.copy()"
   ]
  },
  {
   "cell_type": "code",
   "execution_count": 9,
   "id": "04681a8c-8e29-4336-9e38-b768acf8dc1d",
   "metadata": {},
   "outputs": [],
   "source": [
    "housing = df.drop(\"median_house_value\", axis=1)\n",
    "housing_labels = df[\"median_house_value\"].copy()"
   ]
  },
  {
   "cell_type": "code",
   "execution_count": 10,
   "id": "f54495ac-9104-4daf-8762-5fdc2e44354d",
   "metadata": {},
   "outputs": [],
   "source": [
    "from sklearn.impute import SimpleImputer\n",
    "imputer = SimpleImputer(strategy=\"median\")\n",
    "\n",
    "housing_num = housing.select_dtypes(include=[np.number])\n",
    "# imputer.fit(housing_num)\n",
    "# x=imputer.transform(housing_num)\n",
    "#or \n",
    "x=imputer.fit_transform(housing_num)\n"
   ]
  },
  {
   "cell_type": "code",
   "execution_count": 11,
   "id": "652da95f-f125-4b0c-ab64-24ca327c8ab0",
   "metadata": {},
   "outputs": [
    {
     "data": {
      "text/plain": [
       "array([[-1.2146e+02,  3.8520e+01,  2.9000e+01, ...,  2.2370e+03,\n",
       "         7.0600e+02,  2.1736e+00],\n",
       "       [-1.1723e+02,  3.3090e+01,  7.0000e+00, ...,  2.0150e+03,\n",
       "         7.6800e+02,  6.3373e+00],\n",
       "       [-1.1904e+02,  3.5370e+01,  4.4000e+01, ...,  6.6700e+02,\n",
       "         3.0000e+02,  2.8750e+00],\n",
       "       ...,\n",
       "       [-1.2272e+02,  3.8440e+01,  4.8000e+01, ...,  4.5800e+02,\n",
       "         1.7200e+02,  3.1797e+00],\n",
       "       [-1.2270e+02,  3.8310e+01,  1.4000e+01, ...,  1.2080e+03,\n",
       "         5.0100e+02,  4.1964e+00],\n",
       "       [-1.2214e+02,  3.9970e+01,  2.7000e+01, ...,  6.2500e+02,\n",
       "         1.9700e+02,  3.1319e+00]], shape=(16512, 8))"
      ]
     },
     "execution_count": 11,
     "metadata": {},
     "output_type": "execute_result"
    }
   ],
   "source": [
    "\n"
   ]
  },
  {
   "cell_type": "code",
   "execution_count": null,
   "id": "0bb161f1-c0f1-488d-babe-9e5aa89ba7bd",
   "metadata": {},
   "outputs": [],
   "source": []
  }
 ],
 "metadata": {
  "kernelspec": {
   "display_name": "Python 3 (ipykernel)",
   "language": "python",
   "name": "python3"
  },
  "language_info": {
   "codemirror_mode": {
    "name": "ipython",
    "version": 3
   },
   "file_extension": ".py",
   "mimetype": "text/x-python",
   "name": "python",
   "nbconvert_exporter": "python",
   "pygments_lexer": "ipython3",
   "version": "3.11.11"
  }
 },
 "nbformat": 4,
 "nbformat_minor": 5
}
